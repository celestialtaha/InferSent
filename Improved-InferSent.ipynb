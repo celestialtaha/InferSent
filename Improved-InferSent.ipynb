{
  "nbformat": 4,
  "nbformat_minor": 0,
  "metadata": {
    "colab": {
      "name": "InferSent.ipynb",
      "provenance": [],
      "collapsed_sections": []
    },
    "kernelspec": {
      "name": "python3",
      "display_name": "Python 3"
    },
    "accelerator": "GPU"
  },
  "cells": [
    {
      "cell_type": "markdown",
      "metadata": {
        "id": "u67iWj5E2G14",
        "colab_type": "text"
      },
      "source": [
        "# Taha Samavati - 98722134\n",
        "## NLP Final Project / Fall-Winter 1398 / Dr.Minaei\n",
        "\n",
        "*Supervised Learning of Sentence Representation based on stanford natural language inference data (InferSent)*\n",
        "\n"
      ]
    },
    {
      "cell_type": "code",
      "metadata": {
        "id": "wxNRhguhDSx7",
        "colab_type": "code",
        "colab": {}
      },
      "source": [
        "# Imports\n",
        "import numpy as np\n",
        "import pandas as pd\n",
        "import gensim\n",
        "import nltk\n",
        "from nltk.tokenize import RegexpTokenizer\n",
        "from keras.layers import LSTM, GRU, Bidirectional, GlobalMaxPooling1D, GlobalAveragePooling1D, \\\n",
        "      concatenate, Conv1D, Lambda, multiply, Dense,subtract,TimeDistributed\n",
        "import keras.backend as K\n",
        "from keras import Model\n",
        "import os\n",
        "import math\n",
        "from keras.callbacks import ModelCheckpoint, EarlyStopping\n",
        "from keras.layers import Input, Embedding, concatenate\n",
        "from keras.preprocessing.text import Tokenizer\n",
        "from keras.preprocessing.sequence import pad_sequences\n",
        "from keras.utils import to_categorical\n",
        "from sklearn.preprocessing import OneHotEncoder\n",
        "from sklearn.preprocessing import LabelEncoder\n",
        "from keras.callbacks import ModelCheckpoint\n",
        "from keras import backend as K, initializers, regularizers, constraints\n",
        "from keras.engine.topology import Layer\n",
        "from keras.utils import plot_model\n",
        "from keras.models import load_model"
      ],
      "execution_count": 0,
      "outputs": []
    },
    {
      "cell_type": "code",
      "metadata": {
        "id": "xviqaWT4EBMG",
        "colab_type": "code",
        "colab": {}
      },
      "source": [
        "from google.colab import drive\n",
        "drive.mount('/content/gdrive/')"
      ],
      "execution_count": 0,
      "outputs": []
    },
    {
      "cell_type": "markdown",
      "metadata": {
        "id": "8gt-Hvr53Tjy",
        "colab_type": "text"
      },
      "source": [
        "# 1. Load and Preprocessing of data set"
      ]
    },
    {
      "cell_type": "code",
      "metadata": {
        "id": "0COxMmMSJ7k7",
        "colab_type": "code",
        "colab": {}
      },
      "source": [
        "# download dataset and unzip it\n",
        "!wget https://nlp.stanford.edu/projects/snli/snli_1.0.zip -P /content/gdrive/My\\ Drive/NLP/\n",
        "!wget https://www.nyu.edu/projects/bowman/multinli/multinli_1.0.zip -P /content/gdrive/My\\ Drive/NLP/\n",
        "\n",
        "!unzip /content/gdrive/My\\ Drive/NLP/snli_1.0.zip -d /content/gdrive/My\\ Drive/NLP/\n",
        "!unzip /content/gdrive/My\\ Drive/NLP/multinli_1.0.zip -d /content/gdrive/My\\ Drive/NLP/"
      ],
      "execution_count": 0,
      "outputs": []
    },
    {
      "cell_type": "code",
      "metadata": {
        "id": "FDjR68kvb2Nl",
        "colab_type": "code",
        "outputId": "b134697c-45c2-445e-956e-ed79d895d846",
        "colab": {
          "base_uri": "https://localhost:8080/",
          "height": 69
        }
      },
      "source": [
        "!wget https://dl.fbaipublicfiles.com/fasttext/vectors-english/wiki-news-300d-1M.vec.zip -P /content/gdrive/My\\ Drive/NLP/\n",
        "!unzip /content/gdrive/My\\ Drive/NLP/wiki-news-300d-1M.vec.zip -d /content/gdrive/My\\ Drive/NLP/\n",
        "\n",
        "! wget \"http://nlp.stanford.edu/data/glove.6B.zip\" -O glove.6B.zip && unzip glove.6B.zip"
      ],
      "execution_count": 0,
      "outputs": [
        {
          "output_type": "stream",
          "text": [
            "Archive:  /content/gdrive/My Drive/NLP/wiki-news-300d-1M.vec.zip\n",
            "replace /content/gdrive/My Drive/NLP/wiki-news-300d-1M.vec? [y]es, [n]o, [A]ll, [N]one, [r]ename: y\n",
            "  inflating: /content/gdrive/My Drive/NLP/wiki-news-300d-1M.vec  \n"
          ],
          "name": "stdout"
        }
      ]
    },
    {
      "cell_type": "code",
      "metadata": {
        "id": "SAntSet3OLJR",
        "colab_type": "code",
        "colab": {}
      },
      "source": [
        "def onehot(labels):\n",
        "\n",
        "  # integer encode\n",
        "  label_encoder = LabelEncoder()\n",
        "  integer_encoded = label_encoder.fit_transform(labels)\n",
        "\n",
        "  # binary encode\n",
        "  onehot_encoder = OneHotEncoder(sparse=False)\n",
        "  integer_encoded = integer_encoded.reshape(len(integer_encoded), 1)\n",
        "  onehot_encoded = onehot_encoder.fit_transform(integer_encoded)\n",
        "  return onehot_encoded\n",
        "\n",
        "# read dataset\n",
        "snli_train = pd.read_csv('/content/gdrive/My Drive/NLP/snli_1.0/snli_1.0_train.txt',sep=\"\\t\")\n",
        "snli_dev = pd.read_csv('/content/gdrive/My Drive/NLP/snli_1.0/snli_1.0_dev.txt', sep=\"\\t\")\n",
        "snli_test = pd.read_csv('/content/gdrive/My Drive/NLP/snli_1.0/snli_1.0_test.txt', sep=\"\\t\")\n",
        "\n",
        "# preprocess drop nan entries and ignore entries with no label\n",
        "snli_train = snli_train.dropna(subset = ['sentence2'])\n",
        "snli_train = snli_train[snli_train[\"gold_label\"] != \"-\"]\n",
        "snli_dev = snli_dev[snli_dev[\"gold_label\"] != \"-\"]\n",
        "snli_test = snli_test[snli_test[\"gold_label\"] != \"-\"]\n",
        "\n",
        "# construct label arrays\n",
        "y_train = snli_train['gold_label']\n",
        "y_val = snli_dev['gold_label']\n",
        "y_test = snli_test['gold_label']\n",
        "\n",
        "# constrauct X_train arrays\n",
        "x_train_raw = snli_train[['sentence1','sentence2']]\n",
        "x_val_raw = snli_dev[['sentence1','sentence2']]\n",
        "x_test_raw = snli_test[['sentence1','sentence2']]\n",
        "\n",
        "# one hot encode labels\n",
        "y_train_e = onehot(y_train)\n",
        "y_val_e = onehot(y_val)\n",
        "y_test_e = onehot(y_test)"
      ],
      "execution_count": 0,
      "outputs": []
    },
    {
      "cell_type": "markdown",
      "metadata": {
        "id": "DntWL_wV7A3w",
        "colab_type": "text"
      },
      "source": [
        "* FastText was used as The Word Embedding Model. (300 dim - wiki-news)\n",
        "* in the preceeding cells :\n",
        "\n",
        "\n",
        "1.   Load and read fasttext model\n",
        "2.   Create corpus out of all sentences in dataset\n",
        "3.   Fit Tokenizer on whole corpus\n",
        "4.   Convert text to sequence\n",
        "5.   Zero padd sequences\n",
        "\n"
      ]
    },
    {
      "cell_type": "code",
      "metadata": {
        "id": "FQ8sWthGatTm",
        "colab_type": "code",
        "colab": {}
      },
      "source": [
        "# 1.Load and read fasttext model\n",
        "\n",
        "embeddings_index = {}\n",
        "with open('/content/gdrive/My Drive/NLP/wiki-news-300d-1M.vec') as f:\n",
        "    for line in f:\n",
        "        word, coefs = line.split(maxsplit=1)\n",
        "        coefs = np.fromstring(coefs, 'f', sep=' ')\n",
        "        embeddings_index[word] = coefs\n",
        "'''\n",
        "# 1.Load and read glove model\n",
        "embeddings_index = {}\n",
        "with open('glove.6B.300d.txt') as f:\n",
        "    for line in f:\n",
        "        word, coefs = line.split(maxsplit=1)\n",
        "        coefs = np.fromstring(coefs, 'f', sep=' ')\n",
        "        embeddings_index[word] = coefs\n",
        "'''"
      ],
      "execution_count": 0,
      "outputs": []
    },
    {
      "cell_type": "code",
      "metadata": {
        "id": "6HwLZjExTO0e",
        "colab_type": "code",
        "colab": {}
      },
      "source": [
        "# 2.Create corpus out of all sentences in dataset\n",
        "main_train, hypo_train, main_val, hypo_val, main_test, hypo_test=[], [], [], [], [], []\n",
        "\n",
        "for entry in x_train_raw['sentence1']:\n",
        "  main_train.append(entry)\n",
        "for entry in x_train_raw['sentence2']:\n",
        "  hypo_train.append(entry)\n",
        "for entry in x_val_raw['sentence1']:\n",
        "  main_val.append(entry)\n",
        "for entry in x_val_raw['sentence2']:\n",
        "  hypo_val.append(entry)\n",
        "for entry in x_test_raw['sentence1']:\n",
        "  main_test.append(entry)\n",
        "for entry in x_test_raw['sentence2']:\n",
        "  hypo_test.append(entry)\n",
        "\n",
        "corpus = main_train + hypo_train + main_val + hypo_val\n",
        "# 3.Fit Tokenizer on whole corpus\n",
        "tokenizer = Tokenizer()\n",
        "tokenizer.fit_on_texts(corpus)\n",
        "del corpus # delete to free memmory"
      ],
      "execution_count": 0,
      "outputs": []
    },
    {
      "cell_type": "code",
      "metadata": {
        "id": "V9xc__ZVkMXs",
        "colab_type": "code",
        "colab": {}
      },
      "source": [
        "# 4.Convert text to sequence\n",
        "main_sequences = tokenizer.texts_to_sequences(main_train)\n",
        "hypo_sequences = tokenizer.texts_to_sequences(hypo_train)\n",
        "main_sequences_val = tokenizer.texts_to_sequences(main_val)\n",
        "hypo_sequences_val = tokenizer.texts_to_sequences(hypo_val)\n",
        "main_sequences_test = tokenizer.texts_to_sequences(main_test)\n",
        "hypo_sequences_test = tokenizer.texts_to_sequences(hypo_test)\n",
        "# 5.Zero pad sequences\n",
        "main_seq_padded = pad_sequences(main_sequences, maxlen=82)\n",
        "hypo_seq_padded = pad_sequences(hypo_sequences, maxlen=82)\n",
        "main_seq_padded_val = pad_sequences(main_sequences_val, maxlen=82)\n",
        "hypo_seq_padded_val = pad_sequences(hypo_sequences_val, maxlen=82)\n",
        "main_seq_padded_test = pad_sequences(main_sequences_test, maxlen=82)\n",
        "hypo_seq_padded_test = pad_sequences(hypo_sequences_test, maxlen=82)"
      ],
      "execution_count": 0,
      "outputs": []
    },
    {
      "cell_type": "markdown",
      "metadata": {
        "id": "gjgz82ovA9fg",
        "colab_type": "text"
      },
      "source": [
        "* Construct the embedding matrix"
      ]
    },
    {
      "cell_type": "code",
      "metadata": {
        "id": "O-koTqShlnCu",
        "colab_type": "code",
        "outputId": "1dd14d13-de4b-48af-b977-ef41ffd0f236",
        "colab": {
          "base_uri": "https://localhost:8080/",
          "height": 35
        }
      },
      "source": [
        "EMBEDDING_DIM=300\n",
        "word_index = tokenizer.word_index\n",
        "print('Found %s unique tokens.' % len(word_index))\n",
        "\n",
        "# reserve zero for padding\n",
        "num_words = len(word_index) + 1\n",
        "embedding_matrix = np.zeros((num_words, EMBEDDING_DIM))\n",
        "\n",
        "for word, i in word_index.items():\n",
        "    embedding_vector = embeddings_index.get(word)\n",
        "    if embedding_vector is not None :\n",
        "        # words not found in embedding index will be all-zeros.\n",
        "        embedding_matrix[i] = embedding_vector"
      ],
      "execution_count": 0,
      "outputs": [
        {
          "output_type": "stream",
          "text": [
            "Found 34606 unique tokens.\n"
          ],
          "name": "stdout"
        }
      ]
    },
    {
      "cell_type": "markdown",
      "metadata": {
        "id": "9fkAyYNM9V1P",
        "colab_type": "text"
      },
      "source": [
        "# 2. Original Model implementation (discussed in paper)"
      ]
    },
    {
      "cell_type": "code",
      "metadata": {
        "id": "ofBV2Lq1LbWs",
        "colab_type": "code",
        "colab": {}
      },
      "source": [
        "def sentence_encoder(premise, hypothesis, encoder_type):\n",
        "\trnn_units=512\n",
        "\t# Construct encoder part of the model with specified structure #\n",
        "\tif encoder_type == 'lstm':\n",
        "\t\tlstm = LSTM(units=rnn_units)\n",
        "\t\treturn lstm(premise), lstm(hypothesis)\n",
        "\telif encoder_type == 'gru':\n",
        "\t\tgru = GRU(units=rnn_units)\n",
        "\t\treturn gru(premise), gru(hypothesis)\n",
        "\telif encoder_type == 'bilstm':\n",
        "\t\tbilstm = Bidirectional(LSTM(units=rnn_units))\n",
        "\t\treturn bilstm(premise), bilstm(hypothesis)\n",
        "\telif encoder_type == 'bigru':\n",
        "\t\tbigru = Bidirectional(GRU(units=rnn_units))\n",
        "\t\treturn bigru(premise), bigru(hypothesis)\n",
        "\telif encoder_type == 'bilstm_max_pool':\n",
        "\t\tbilstm = Bidirectional(LSTM(units=rnn_units, return_sequences=True))\n",
        "\t\tglobal_max_pooling = Lambda(lambda x: K.max(x, axis=1)) # GlobalMaxPooling1D didn't support masking\n",
        "\t\treturn global_max_pooling(bilstm(premise)), global_max_pooling(bilstm(hypothesis))\n",
        "\telif encoder_type == 'bilstm_mean_pool':\n",
        "\t\tbilstm = Bidirectional(LSTM(units=rnn_units, return_sequences=True))\n",
        "\t\treturn GlobalAveragePooling1D()(bilstm(premise)), GlobalAveragePooling1D()(bilstm(hypothesis))\n",
        "\telse:\n",
        "\t\traise ValueError('Encoder Type Not Understood : {}'.format(encoder_type))\n",
        "\n",
        "def build_input(mask_zero=True): # Build Input of the model--------------------------\n",
        "\n",
        "  input_premise = Input(shape=(max_len,))\n",
        "  input_hypothesis = Input(shape=(max_len,))\n",
        "  inputs = [input_premise, input_hypothesis]\n",
        "    \n",
        "  embedding = Embedding(embedding_matrix.shape[0], embedding_matrix.shape[1],\n",
        "                        weights=[embedding_matrix], trainable=word_embed_trainable,\n",
        "                        mask_zero=mask_zero)\n",
        "    \n",
        "  premise_embed = embedding(input_premise)\n",
        "  hypothesis_embed = embedding(input_hypothesis)\n",
        "\n",
        "  return premise_embed, hypothesis_embed , inputs"
      ],
      "execution_count": 0,
      "outputs": []
    },
    {
      "cell_type": "code",
      "metadata": {
        "id": "niVmeZt5J75G",
        "colab_type": "code",
        "outputId": "b98e9259-fa31-4b1d-b40e-ca2990536e35",
        "colab": {
          "base_uri": "https://localhost:8080/",
          "height": 675
        }
      },
      "source": [
        "max_len = 82\n",
        "word_embed_type = 'fasttext'\n",
        "#word_embed_type = 'GloVe'\n",
        "word_embed_dim = 300\n",
        "word_embed_trainable = False\n",
        "mask_zero =  True\n",
        "\n",
        "premise_embed, hypothesis_embed, inputs = build_input(mask_zero=mask_zero)\n",
        "\n",
        "premise_encoded, hypothesis_encoded = sentence_encoder(premise_embed, hypothesis_embed, 'bilstm_max_pool')\n",
        "p_sub_h = Lambda(lambda x: K.abs(x[0] - x[1]))([premise_encoded, hypothesis_encoded])\n",
        "p_mul_h = multiply([premise_encoded, hypothesis_encoded])\n",
        "p_concat_h = concatenate([premise_encoded, hypothesis_encoded, p_sub_h, p_mul_h])\n",
        "\n",
        "dense = Dense(units=128, activation='relu')(p_concat_h)\n",
        "output = Dense(3, activation='softmax')(dense)\n",
        "\n",
        "model = Model(inputs, output)\n",
        "model.compile(loss='categorical_crossentropy', metrics=['acc'], optimizer='Adam')\n",
        "\n",
        "print(model.summary())"
      ],
      "execution_count": 29,
      "outputs": [
        {
          "output_type": "stream",
          "text": [
            "Model: \"model_2\"\n",
            "__________________________________________________________________________________________________\n",
            "Layer (type)                    Output Shape         Param #     Connected to                     \n",
            "==================================================================================================\n",
            "input_3 (InputLayer)            (None, 82)           0                                            \n",
            "__________________________________________________________________________________________________\n",
            "input_4 (InputLayer)            (None, 82)           0                                            \n",
            "__________________________________________________________________________________________________\n",
            "embedding_2 (Embedding)         (None, 82, 300)      664500      input_3[0][0]                    \n",
            "                                                                 input_4[0][0]                    \n",
            "__________________________________________________________________________________________________\n",
            "bidirectional_2 (Bidirectional) (None, 82, 1024)     3330048     embedding_2[0][0]                \n",
            "                                                                 embedding_2[1][0]                \n",
            "__________________________________________________________________________________________________\n",
            "lambda_3 (Lambda)               (None, 1024)         0           bidirectional_2[0][0]            \n",
            "                                                                 bidirectional_2[1][0]            \n",
            "__________________________________________________________________________________________________\n",
            "lambda_4 (Lambda)               (None, 1024)         0           lambda_3[0][0]                   \n",
            "                                                                 lambda_3[1][0]                   \n",
            "__________________________________________________________________________________________________\n",
            "multiply_2 (Multiply)           (None, 1024)         0           lambda_3[0][0]                   \n",
            "                                                                 lambda_3[1][0]                   \n",
            "__________________________________________________________________________________________________\n",
            "concatenate_2 (Concatenate)     (None, 4096)         0           lambda_3[0][0]                   \n",
            "                                                                 lambda_3[1][0]                   \n",
            "                                                                 lambda_4[0][0]                   \n",
            "                                                                 multiply_2[0][0]                 \n",
            "__________________________________________________________________________________________________\n",
            "dense_3 (Dense)                 (None, 128)          524416      concatenate_2[0][0]              \n",
            "__________________________________________________________________________________________________\n",
            "dense_4 (Dense)                 (None, 3)            387         dense_3[0][0]                    \n",
            "==================================================================================================\n",
            "Total params: 4,519,351\n",
            "Trainable params: 3,854,851\n",
            "Non-trainable params: 664,500\n",
            "__________________________________________________________________________________________________\n",
            "None\n"
          ],
          "name": "stdout"
        }
      ]
    },
    {
      "cell_type": "markdown",
      "metadata": {
        "id": "ZVkIOeKL93_O",
        "colab_type": "text"
      },
      "source": [
        "# 3. Modified Model (Esim) -- Implementation"
      ]
    },
    {
      "cell_type": "code",
      "metadata": {
        "id": "UzT_Ge8qnAIt",
        "colab_type": "code",
        "colab": {}
      },
      "source": [
        "class DotProductAttention(Layer):\n",
        "    \"\"\"\n",
        "    dot-product-attention mechanism, supporting masking\n",
        "    \"\"\"\n",
        "    def __init__(self, return_attend_weight=False, keep_mask=True, **kwargs):\n",
        "        self.return_attend_weight = return_attend_weight\n",
        "        self.keep_mask = keep_mask\n",
        "        self.supports_masking = True\n",
        "        super(DotProductAttention, self).__init__(**kwargs)\n",
        "\n",
        "    def build(self, input_shape): # validate input data dimension\n",
        "        assert isinstance(input_shape, list)\n",
        "        input_shape_a, input_shape_b = input_shape\n",
        "\n",
        "        if len(input_shape_a) != 3 or len(input_shape_b) != 3:\n",
        "            raise ValueError('Inputs into DotProductAttention should be 3D tensors')\n",
        "\n",
        "        if input_shape_a[-1] != input_shape_b[-1]:\n",
        "            raise ValueError('Inputs into DotProductAttention should have the same dimensionality at the last axis')\n",
        "\n",
        "    def call(self, inputs, mask=None):\n",
        "        assert isinstance(inputs, list)\n",
        "        inputs_a, inputs_b = inputs\n",
        "\n",
        "        if mask is not None:\n",
        "            mask_a, mask_b = mask\n",
        "        else:\n",
        "            mask_a, mask_b = None, None\n",
        "\n",
        "        e = K.exp(K.batch_dot(inputs_a, inputs_b, axes=2))  # similarity between a & b\n",
        "\n",
        "        # apply mask before normalization (softmax)\n",
        "        if mask_a is not None:\n",
        "            e *= K.expand_dims(K.cast(mask_a, K.floatx()), 2)\n",
        "        if mask_b is not None:\n",
        "            e *= K.expand_dims(K.cast(mask_b, K.floatx()), 1)\n",
        "\n",
        "        e_b = e / K.cast(K.sum(e, axis=2, keepdims=True) + K.epsilon(), K.floatx())    # attention weight over b\n",
        "        e_a = e / K.cast(K.sum(e, axis=1, keepdims=True) + K.epsilon(), K.floatx())     # attention weight over a\n",
        "\n",
        "        if self.return_attend_weight:\n",
        "            return [e_b, e_a]\n",
        "\n",
        "        a_attend = K.batch_dot(e_b, inputs_b, axes=(2, 1))  # a attend to b\n",
        "        b_attend = K.batch_dot(e_a, inputs_a, axes=(1, 1))  # b attend to a\n",
        "        return [a_attend, b_attend]\n",
        "\n",
        "    def compute_mask(self, inputs, mask=None):\n",
        "        if self.keep_mask:\n",
        "            return mask\n",
        "        else:\n",
        "            return [None, None]\n",
        "\n",
        "    def compute_output_shape(self, input_shape):\n",
        "        if self.return_attend_weight:\n",
        "            input_shape_a, input_shape_b = input_shape\n",
        "            return [(input_shape_a[0], input_shape_a[1], input_shape_b[1]),\n",
        "                    (input_shape_a[0], input_shape_a[1], input_shape_b[1])]\n",
        "        return input_shape"
      ],
      "execution_count": 0,
      "outputs": []
    },
    {
      "cell_type": "code",
      "metadata": {
        "id": "mvu8NeydlQMl",
        "colab_type": "code",
        "outputId": "25f1baeb-4b64-4156-ecac-71ab6791e5fc",
        "colab": {
          "base_uri": "https://localhost:8080/",
          "height": 1000
        }
      },
      "source": [
        "def build_esim(mask_zero=True):\n",
        "  premise_embed, hypothesis_embed, inputs = build_input(mask_zero=True)\n",
        "  rnn_units=512\n",
        "  # input encoding\n",
        "  bilstm_1 = Bidirectional(LSTM(units=rnn_units, return_sequences=True))\n",
        "  premise_hidden = bilstm_1(premise_embed)\n",
        "  hypothesis_hidden = bilstm_1(hypothesis_embed)\n",
        "\n",
        "  # local inference collected over sequences\n",
        "  premise_attend, hypothesis_attend = DotProductAttention()([premise_hidden, hypothesis_hidden])\n",
        "\n",
        "  # enhancement of local inference information\n",
        "  premise_enhance = concatenate([premise_hidden, premise_attend, subtract([premise_hidden, premise_attend]),\n",
        "                                  multiply([premise_hidden, premise_attend])])\n",
        "  hypothesis_enhance = concatenate([hypothesis_hidden, hypothesis_attend,\n",
        "                                    subtract([hypothesis_hidden, hypothesis_attend]),\n",
        "                                    multiply([hypothesis_hidden, hypothesis_attend])])\n",
        "\n",
        "  # inference composition\n",
        "  feed_forward = TimeDistributed(Dense(units=rnn_units, activation='relu'))\n",
        "  bilstm_2 = Bidirectional(LSTM(units=rnn_units, return_sequences=True))\n",
        "  premise_compose = bilstm_2(feed_forward(premise_enhance))\n",
        "  hypothesis_compose = bilstm_2(feed_forward(hypothesis_enhance))\n",
        "\n",
        "  global_max_pooling = Lambda(lambda x: K.max(x, axis=1))  # GlobalMaxPooling1D didn't support masking\n",
        "  premise_avg = GlobalAveragePooling1D()(premise_compose)\n",
        "  premise_max = global_max_pooling(premise_compose)\n",
        "  hypothesis_avg = GlobalAveragePooling1D()(hypothesis_compose)\n",
        "  hypothesis_max = global_max_pooling(hypothesis_compose)\n",
        "\n",
        "  inference_compose = concatenate([premise_avg, premise_max, hypothesis_avg, hypothesis_max])\n",
        "\n",
        "  dense = Dense(units=256, activation='tanh')(inference_compose)\n",
        "  output = Dense(3, activation='softmax')(dense)\n",
        "\n",
        "  model = Model(inputs, output)\n",
        "  model.compile(loss='categorical_crossentropy', metrics=['acc'], optimizer='adam')\n",
        "  return model\n",
        "\n",
        "esim_model = build_esim()\n",
        "print(esim_model.summary())"
      ],
      "execution_count": 57,
      "outputs": [
        {
          "output_type": "stream",
          "text": [
            "Model: \"model_2\"\n",
            "__________________________________________________________________________________________________\n",
            "Layer (type)                    Output Shape         Param #     Connected to                     \n",
            "==================================================================================================\n",
            "input_3 (InputLayer)            (None, 82)           0                                            \n",
            "__________________________________________________________________________________________________\n",
            "input_4 (InputLayer)            (None, 82)           0                                            \n",
            "__________________________________________________________________________________________________\n",
            "embedding_2 (Embedding)         (None, 82, 300)      10382100    input_3[0][0]                    \n",
            "                                                                 input_4[0][0]                    \n",
            "__________________________________________________________________________________________________\n",
            "bidirectional_3 (Bidirectional) (None, 82, 1024)     3330048     embedding_2[0][0]                \n",
            "                                                                 embedding_2[1][0]                \n",
            "__________________________________________________________________________________________________\n",
            "dot_product_attention_2 (DotPro [(None, 82, 1024), ( 0           bidirectional_3[0][0]            \n",
            "                                                                 bidirectional_3[1][0]            \n",
            "__________________________________________________________________________________________________\n",
            "subtract_3 (Subtract)           (None, 82, 1024)     0           bidirectional_3[0][0]            \n",
            "                                                                 dot_product_attention_2[0][0]    \n",
            "__________________________________________________________________________________________________\n",
            "multiply_3 (Multiply)           (None, 82, 1024)     0           bidirectional_3[0][0]            \n",
            "                                                                 dot_product_attention_2[0][0]    \n",
            "__________________________________________________________________________________________________\n",
            "subtract_4 (Subtract)           (None, 82, 1024)     0           bidirectional_3[1][0]            \n",
            "                                                                 dot_product_attention_2[0][1]    \n",
            "__________________________________________________________________________________________________\n",
            "multiply_4 (Multiply)           (None, 82, 1024)     0           bidirectional_3[1][0]            \n",
            "                                                                 dot_product_attention_2[0][1]    \n",
            "__________________________________________________________________________________________________\n",
            "concatenate_4 (Concatenate)     (None, 82, 4096)     0           bidirectional_3[0][0]            \n",
            "                                                                 dot_product_attention_2[0][0]    \n",
            "                                                                 subtract_3[0][0]                 \n",
            "                                                                 multiply_3[0][0]                 \n",
            "__________________________________________________________________________________________________\n",
            "concatenate_5 (Concatenate)     (None, 82, 4096)     0           bidirectional_3[1][0]            \n",
            "                                                                 dot_product_attention_2[0][1]    \n",
            "                                                                 subtract_4[0][0]                 \n",
            "                                                                 multiply_4[0][0]                 \n",
            "__________________________________________________________________________________________________\n",
            "time_distributed_2 (TimeDistrib (None, 82, 512)      2097664     concatenate_4[0][0]              \n",
            "                                                                 concatenate_5[0][0]              \n",
            "__________________________________________________________________________________________________\n",
            "bidirectional_4 (Bidirectional) (None, 82, 1024)     4198400     time_distributed_2[0][0]         \n",
            "                                                                 time_distributed_2[1][0]         \n",
            "__________________________________________________________________________________________________\n",
            "global_average_pooling1d_3 (Glo (None, 1024)         0           bidirectional_4[0][0]            \n",
            "__________________________________________________________________________________________________\n",
            "lambda_2 (Lambda)               (None, 1024)         0           bidirectional_4[0][0]            \n",
            "                                                                 bidirectional_4[1][0]            \n",
            "__________________________________________________________________________________________________\n",
            "global_average_pooling1d_4 (Glo (None, 1024)         0           bidirectional_4[1][0]            \n",
            "__________________________________________________________________________________________________\n",
            "concatenate_6 (Concatenate)     (None, 4096)         0           global_average_pooling1d_3[0][0] \n",
            "                                                                 lambda_2[0][0]                   \n",
            "                                                                 global_average_pooling1d_4[0][0] \n",
            "                                                                 lambda_2[1][0]                   \n",
            "__________________________________________________________________________________________________\n",
            "dense_5 (Dense)                 (None, 256)          1048832     concatenate_6[0][0]              \n",
            "__________________________________________________________________________________________________\n",
            "dense_6 (Dense)                 (None, 3)            771         dense_5[0][0]                    \n",
            "==================================================================================================\n",
            "Total params: 21,057,815\n",
            "Trainable params: 10,675,715\n",
            "Non-trainable params: 10,382,100\n",
            "__________________________________________________________________________________________________\n",
            "None\n"
          ],
          "name": "stdout"
        }
      ]
    },
    {
      "cell_type": "markdown",
      "metadata": {
        "id": "lMLmdHmDsGWF",
        "colab_type": "text"
      },
      "source": [
        "# 4. Training of Models"
      ]
    },
    {
      "cell_type": "code",
      "metadata": {
        "id": "aPjKME_aop9g",
        "colab_type": "code",
        "outputId": "aa608950-fef3-4c6c-9766-85dd35f11a2d",
        "colab": {
          "base_uri": "https://localhost:8080/",
          "height": 313
        }
      },
      "source": [
        "# train ESIM model with FastText\n",
        "batch_size = 256\n",
        "n_epoch = 4\n",
        "model_name='ESIM'\n",
        "model_save_path = '/content/gdrive/My Drive/NLP/'+model_name+'-{epoch:02d}-{val_acc:.4f}.hdf5'\n",
        "checkpoint = ModelCheckpoint(model_save_path, monitor='val_acc', verbose=1, save_best_only=True, mode='max')\n",
        "callback_list=[checkpoint]\n",
        "hist = esim_model.fit([main_seq_padded,hypo_seq_padded], y_train_e,\n",
        "          batch_size=batch_size,\n",
        "          epochs=n_epoch,\n",
        "          validation_data=([main_seq_padded_val,hypo_seq_padded_val], y_val_e),\n",
        "          callbacks=callback_list)"
      ],
      "execution_count": 0,
      "outputs": [
        {
          "output_type": "stream",
          "text": [
            "Train on 549361 samples, validate on 9842 samples\n",
            "Epoch 1/4\n",
            "549361/549361 [==============================] - 2954s 5ms/step - loss: 0.5627 - acc: 0.7694 - val_loss: 0.4164 - val_acc: 0.8403\n",
            "\n",
            "Epoch 00001: val_acc improved from -inf to 0.84028, saving model to /content/gdrive/My Drive/NLP/bilstm-max-ESIM-01-0.8403.hdf5\n",
            "Epoch 2/4\n",
            "549361/549361 [==============================] - 2976s 5ms/step - loss: 0.4057 - acc: 0.8445 - val_loss: 0.3596 - val_acc: 0.8631\n",
            "\n",
            "Epoch 00002: val_acc improved from 0.84028 to 0.86314, saving model to /content/gdrive/My Drive/NLP/bilstm-max-ESIM-02-0.8631.hdf5\n",
            "Epoch 3/4\n",
            "549361/549361 [==============================] - 2967s 5ms/step - loss: 0.3520 - acc: 0.8673 - val_loss: 0.3401 - val_acc: 0.8706\n",
            "\n",
            "Epoch 00003: val_acc improved from 0.86314 to 0.87055, saving model to /content/gdrive/My Drive/NLP/bilstm-max-ESIM-03-0.8706.hdf5\n",
            "Epoch 4/4\n",
            "549361/549361 [==============================] - 2959s 5ms/step - loss: 0.3073 - acc: 0.8862 - val_loss: 0.3398 - val_acc: 0.8724\n",
            "\n",
            "Epoch 00004: val_acc improved from 0.87055 to 0.87238, saving model to /content/gdrive/My Drive/NLP/bilstm-max-ESIM-04-0.8724.hdf5\n"
          ],
          "name": "stdout"
        }
      ]
    },
    {
      "cell_type": "code",
      "metadata": {
        "id": "yA4HGEe2spEo",
        "colab_type": "code",
        "outputId": "1a9aa55c-e457-44b2-c33b-fa53f4c8224c",
        "colab": {
          "base_uri": "https://localhost:8080/",
          "height": 390
        }
      },
      "source": [
        "# train Esim model with Glove\n",
        "batch_size = 256\n",
        "n_epoch = 4\n",
        "model_name='ESIM_Glove'\n",
        "model_save_path = '/content/gdrive/My Drive/NLP/'+model_name+'-{epoch:02d}-{val_acc:.4f}.hdf5'\n",
        "checkpoint = ModelCheckpoint(model_save_path, monitor='val_acc', verbose=1, save_best_only=True, mode='max')\n",
        "callback_list=[checkpoint]\n",
        "hist = esim_model.fit([main_seq_padded,hypo_seq_padded], y_train_e,\n",
        "          batch_size=batch_size,\n",
        "          epochs=n_epoch,\n",
        "          validation_data=([main_seq_padded_val,hypo_seq_padded_val], y_val_e),\n",
        "          callbacks=callback_list)"
      ],
      "execution_count": 0,
      "outputs": [
        {
          "output_type": "stream",
          "text": [
            "WARNING:tensorflow:From /usr/local/lib/python3.6/dist-packages/keras/backend/tensorflow_backend.py:1033: The name tf.assign_add is deprecated. Please use tf.compat.v1.assign_add instead.\n",
            "\n",
            "WARNING:tensorflow:From /usr/local/lib/python3.6/dist-packages/keras/backend/tensorflow_backend.py:1020: The name tf.assign is deprecated. Please use tf.compat.v1.assign instead.\n",
            "\n",
            "Train on 549361 samples, validate on 9842 samples\n",
            "Epoch 1/4\n",
            "549361/549361 [==============================] - 3453s 6ms/step - loss: 0.5147 - acc: 0.7933 - val_loss: 0.3912 - val_acc: 0.8524\n",
            "\n",
            "Epoch 00001: val_acc improved from -inf to 0.85237, saving model to /content/gdrive/My Drive/NLP/ESIM_Glove-01-0.8524.hdf5\n",
            "Epoch 2/4\n",
            "549361/549361 [==============================] - 3436s 6ms/step - loss: 0.3834 - acc: 0.8542 - val_loss: 0.3570 - val_acc: 0.8654\n",
            "\n",
            "Epoch 00002: val_acc improved from 0.85237 to 0.86537, saving model to /content/gdrive/My Drive/NLP/ESIM_Glove-02-0.8654.hdf5\n",
            "Epoch 3/4\n",
            "549361/549361 [==============================] - 3482s 6ms/step - loss: 0.3209 - acc: 0.8810 - val_loss: 0.3474 - val_acc: 0.8728\n",
            "\n",
            "Epoch 00003: val_acc improved from 0.86537 to 0.87279, saving model to /content/gdrive/My Drive/NLP/ESIM_Glove-03-0.8728.hdf5\n",
            "Epoch 4/4\n",
            "549361/549361 [==============================] - 3422s 6ms/step - loss: 0.2616 - acc: 0.9051 - val_loss: 0.3555 - val_acc: 0.8705\n",
            "\n",
            "Epoch 00004: val_acc did not improve from 0.87279\n"
          ],
          "name": "stdout"
        }
      ]
    },
    {
      "cell_type": "markdown",
      "metadata": {
        "id": "qX2b9xqL-zUO",
        "colab_type": "text"
      },
      "source": [
        "# 5.**===== Evaluation on Test set ======**"
      ]
    },
    {
      "cell_type": "code",
      "metadata": {
        "id": "vPEmzvjOhaTN",
        "colab_type": "code",
        "outputId": "1edca43a-13a7-4d1f-9312-0e0bbcc4686f",
        "colab": {
          "base_uri": "https://localhost:8080/",
          "height": 34
        }
      },
      "source": [
        "# evaluate on test set\n",
        "model = load_model('/content/gdrive/My Drive/NLP/bilstm-max-01-0.8542.hdf5')\n",
        "metrics = model.evaluate([main_seq_padded_test,hypo_seq_padded_test],y_test_e,batch_size=256,verbose=0)\n",
        "accs.append(round(metrics[1]*100,2))\n",
        "print(\"Original Paper Model Accuracy on test-set : \"+str(round(metrics[1]*100,2))+\" %\")"
      ],
      "execution_count": 0,
      "outputs": [
        {
          "output_type": "stream",
          "text": [
            "Original Paper Model Accuracy on test-set : 84.71 %\n"
          ],
          "name": "stdout"
        }
      ]
    },
    {
      "cell_type": "code",
      "metadata": {
        "id": "mz04OvdtIlSL",
        "colab_type": "code",
        "outputId": "40e209d9-7957-4076-e892-435064b572a8",
        "colab": {
          "base_uri": "https://localhost:8080/",
          "height": 101
        }
      },
      "source": [
        "# evaluate on test set\n",
        "accs = []\n",
        "model = build_esim()\n",
        "model.load_weights('/content/gdrive/My Drive/NLP/bilstm-max-ESIM-04-0.8724.hdf5')\n",
        "metrics = model.evaluate([main_seq_padded_test,hypo_seq_padded_test],y_test_e,batch_size=256)\n",
        "accs.append(round(metrics[1]*100,2))\n",
        "print(\"ESIM-FastText Accuracy on test-set : \"+str(round(metrics[1]*100,2))+\" %\")\n",
        "print()\n",
        "\n",
        "#model.load_weights('/content/gdrive/My Drive/NLP/ESIM_Glove-03-0.8728.hdf5')\n",
        "metrics = esim_model.evaluate([main_seq_padded_test,hypo_seq_padded_test],y_test_e,batch_size=256)\n",
        "accs.append(round(metrics[1]*100,2))\n",
        "print(\"ESIM-GloVe Accuracy on test-set : \"+str(round(metrics[1]*100,2))+\" %\")"
      ],
      "execution_count": 0,
      "outputs": [
        {
          "output_type": "stream",
          "text": [
            "9824/9824 [==============================] - 25s 3ms/step\n",
            "ESIM-FastText Accuracy on test-set : 86.95 %\n",
            "\n",
            "9824/9824 [==============================] - 24s 2ms/step\n",
            "ESIM-GloVe Accuracy on test-set : 86.63 %\n"
          ],
          "name": "stdout"
        }
      ]
    },
    {
      "cell_type": "markdown",
      "metadata": {
        "id": "8uTdlHO3sTZ0",
        "colab_type": "text"
      },
      "source": [
        "* Plot Accuracies"
      ]
    },
    {
      "cell_type": "code",
      "metadata": {
        "id": "ddyjh73Qsqyb",
        "colab_type": "code",
        "outputId": "11b488cb-62a9-4065-d131-478a02b2cdb5",
        "colab": {
          "base_uri": "https://localhost:8080/",
          "height": 558
        }
      },
      "source": [
        "def autolabel(rects):\n",
        "    \"\"\"Attach a text label above each bar \"\"\"\n",
        "    for rect in rects:\n",
        "        height = rect.get_height()\n",
        "        ax.annotate('{}'.format(height),\n",
        "                    xy=(rect.get_x() + rect.get_width() / 2, height),\n",
        "                    xytext=(0, 3),  # 3 points vertical offset\n",
        "                    textcoords=\"offset points\",\n",
        "                    ha='center', va='bottom')\n",
        "\n",
        "y_preds = [accs[2],accs[1],accs[0]]\n",
        "\n",
        "\n",
        "method_names=['Original Model','ESIM_GloVe','ESIM_FastText']\n",
        "accuracy=['Accuracy']\n",
        "\n",
        "fig, ax = plt.subplots(figsize=(8,6))\n",
        "labels = method_names\n",
        "\n",
        "data = np.round(y_preds,2)\n",
        "\n",
        "x = np.arange(len(labels))  # the label locations\n",
        "width = 0.4  # the width of the bars\n",
        "\n",
        "\n",
        "rects1 = ax.bar(x, data, width)\n",
        "\n",
        "# Add some text for labels, title and custom x-axis tick labels, etc.\n",
        "ax.set_ylabel('Accuracy')\n",
        "ax.set_title('Accuracy of each model')\n",
        "ax.set_xticks(x)\n",
        "ax.set_xticklabels(labels)\n",
        "ax.legend()\n",
        "\n",
        "autolabel(rects1)\n",
        "\n",
        "fig.tight_layout()\n",
        "\n",
        "plt.show()\n",
        "print()\n",
        "print(\"Best Performing model is ESIM-FastText\")\n",
        "print(\"There is no significant difference between using Glove or FastText Embeddings\")\n",
        "print(\"The Proposed ESIM-FastText outperforms original model by 2.24%\")\n",
        "print(\"---------------------------------------------------------------------------------\")\n",
        "print(\"Taha Samavati - 98722134 - Analysis of final results\")"
      ],
      "execution_count": 0,
      "outputs": [
        {
          "output_type": "stream",
          "text": [
            "No handles with labels found to put in legend.\n"
          ],
          "name": "stderr"
        },
        {
          "output_type": "display_data",
          "data": {
            "image/png": "[encoded data removed]",
            "text/plain": [
              "<Figure size 576x432 with 1 Axes>"
            ]
          },
          "metadata": {
            "tags": []
          }
        },
        {
          "output_type": "stream",
          "text": [
            "\n",
            "Best Performing model is ESIM-FastText\n",
            "There is no significant defference between using Glove or FastText Embeddings\n",
            "The Proposed ESIM-FastText outperforms original model by 2.24%\n",
            "---------------------------------------------------------------------------------\n",
            "Taha Samavati - 98722134 - Analysis of final results\n"
          ],
          "name": "stdout"
        }
      ]
    },
    {
      "cell_type": "code",
      "metadata": {
        "id": "aZggYLtnj2u5",
        "colab_type": "code",
        "outputId": "19eb17bd-c9c8-4f19-faf7-858509f4393d",
        "colab": {
          "base_uri": "https://localhost:8080/",
          "height": 590
        }
      },
      "source": [
        "import matplotlib.pyplot as plt\n",
        "def plot_acc(history, title):\n",
        "\n",
        "  plt.plot(history.history['acc'])\n",
        "  print(history.history['acc'])\n",
        "  plt.plot(history.history['val_acc'])\n",
        "  plt.title('Model accuracy')\n",
        "  plt.ylabel('Accuracy')\n",
        "  plt.xlabel('Epoch')\n",
        "  plt.legend(['Train', 'Test'], loc='upper left')\n",
        "  plt.show()\n",
        "\n",
        "def plot_loss(history, title):\n",
        "\n",
        "  plt.plot(history.history['loss'])\n",
        "  plt.plot(history.history['val_loss'])\n",
        "  plt.title('Model loss')\n",
        "  plt.ylabel('Loss')\n",
        "  plt.xlabel('Epoch')\n",
        "  plt.legend(['Train', 'Test'], loc='upper left')\n",
        "  plt.show()\n",
        "\n",
        "plot_acc(hist,\"Accuracy during training - ESIM GLOVE\")\n",
        "plot_loss(hist,\"Loss during training - ESIM GLOVE\")"
      ],
      "execution_count": 0,
      "outputs": [
        {
          "output_type": "stream",
          "text": [
            "[0.7933490000228443, 0.8542270019208953, 0.8810454327883241, 0.9051243171637063]\n"
          ],
          "name": "stdout"
        },
        {
          "output_type": "display_data",
          "data": {
            "image/png": "[encoded data removed]",
            "text/plain": [
              "<Figure size 432x288 with 1 Axes>"
            ]
          },
          "metadata": {
            "tags": []
          }
        },
        {
          "output_type": "display_data",
          "data": {
            "image/png": "[encoded data removed]",
            "text/plain": [
              "<Figure size 432x288 with 1 Axes>"
            ]
          },
          "metadata": {
            "tags": []
          }
        }
      ]
    },
    {
      "cell_type": "code",
      "metadata": {
        "id": "is75fcgvLMPE",
        "colab_type": "code",
        "colab": {}
      },
      "source": [
        "# plot model\n",
        "model = build_esim()\n",
        "model.load_weights('/content/gdrive/My Drive/NLP/bilstm-max-ESIM-04-0.8724.hdf5')\n",
        "\n",
        "plot_model(model, to_file='model.png')"
      ],
      "execution_count": 0,
      "outputs": []
    },
    {
      "cell_type": "markdown",
      "metadata": {
        "id": "keuor7QYfocq",
        "colab_type": "text"
      },
      "source": [
        "# 6. **Evaluation on SICK dataset - Inference Task**"
      ]
    },
    {
      "cell_type": "code",
      "metadata": {
        "id": "Z-u4ckCOfnlz",
        "colab_type": "code",
        "colab": {
          "base_uri": "https://localhost:8080/",
          "height": 70
        },
        "outputId": "d3eba423-4055-47a0-9e5c-31d8cedb060f"
      },
      "source": [
        "# download dataset\n",
        "#! wget \"https://zenodo.org/record/2787612/files/SICK.zip?download=1\" -P /content/gdrive/My\\ Drive/NLP/\n",
        "!unzip /content/gdrive/My\\ Drive/NLP/SICK.zip -d /content/gdrive/My\\ Drive/NLP/"
      ],
      "execution_count": 7,
      "outputs": [
        {
          "output_type": "stream",
          "text": [
            "Archive:  /content/gdrive/My Drive/NLP/SICK.zip\n",
            "  inflating: /content/gdrive/My Drive/NLP/readme.txt  \n",
            "  inflating: /content/gdrive/My Drive/NLP/SICK.txt  \n"
          ],
          "name": "stdout"
        }
      ]
    },
    {
      "cell_type": "code",
      "metadata": {
        "id": "FOkziu_KgH45",
        "colab_type": "code",
        "colab": {}
      },
      "source": [
        "# read dataset\n",
        "sick_dataset = pd.read_csv('/content/gdrive/My Drive/NLP/SICK.txt',sep=\"\\t\")\n",
        "\n",
        "\n",
        "# preprocess drop nan entries and ignore entries with no label\n",
        "sick_dataset = sick_dataset.dropna(subset = ['sentence_B'])\n",
        "sick_dataset = sick_dataset[sick_dataset[\"entailment_label\"] != \"-\"]\n",
        "\n",
        "sick_train = sick_dataset[sick_dataset['SemEval_set'] == 'TRAIN']\n",
        "sick_trial = sick_dataset[sick_dataset['SemEval_set'] == 'TRIAL']\n",
        "sick_test = sick_dataset[sick_dataset['SemEval_set'] == 'TEST']\n",
        "\n",
        "# construct label arrays\n",
        "y_train = sick_train['entailment_label']\n",
        "y_val = sick_trial['entailment_label']\n",
        "y_test = sick_test['entailment_label']\n",
        "\n",
        "# constrauct X_train arrays\n",
        "x_train_raw = sick_train[['sentence_A','sentence_B']]\n",
        "x_val_raw = sick_trial[['sentence_A','sentence_B']]\n",
        "x_test_raw = sick_test[['sentence_A','sentence_B']]\n",
        "\n",
        "# one hot encode labels\n",
        "y_train_e = onehot(y_train)\n",
        "y_val_e = onehot(y_val)\n",
        "y_test_e = onehot(y_test)"
      ],
      "execution_count": 0,
      "outputs": []
    },
    {
      "cell_type": "code",
      "metadata": {
        "id": "x7XmQ9oUiBsr",
        "colab_type": "code",
        "colab": {
          "base_uri": "https://localhost:8080/",
          "height": 447
        },
        "outputId": "682c50bb-41b6-4cda-9a5f-2397f7c6d111"
      },
      "source": [
        "sick_train.head()"
      ],
      "execution_count": 11,
      "outputs": [
        {
          "output_type": "execute_result",
          "data": {
            "text/html": [
              "<div>\n",
              "<style scoped>\n",
              "    .dataframe tbody tr th:only-of-type {\n",
              "        vertical-align: middle;\n",
              "    }\n",
              "\n",
              "    .dataframe tbody tr th {\n",
              "        vertical-align: top;\n",
              "    }\n",
              "\n",
              "    .dataframe thead th {\n",
              "        text-align: right;\n",
              "    }\n",
              "</style>\n",
              "<table border=\"1\" class=\"dataframe\">\n",
              "  <thead>\n",
              "    <tr style=\"text-align: right;\">\n",
              "      <th></th>\n",
              "      <th>pair_ID</th>\n",
              "      <th>sentence_A</th>\n",
              "      <th>sentence_B</th>\n",
              "      <th>entailment_label</th>\n",
              "      <th>relatedness_score</th>\n",
              "      <th>entailment_AB</th>\n",
              "      <th>entailment_BA</th>\n",
              "      <th>sentence_A_original</th>\n",
              "      <th>sentence_B_original</th>\n",
              "      <th>sentence_A_dataset</th>\n",
              "      <th>sentence_B_dataset</th>\n",
              "      <th>SemEval_set</th>\n",
              "    </tr>\n",
              "  </thead>\n",
              "  <tbody>\n",
              "    <tr>\n",
              "      <th>0</th>\n",
              "      <td>1</td>\n",
              "      <td>A group of kids is playing in a yard and an ol...</td>\n",
              "      <td>A group of boys in a yard is playing and a man...</td>\n",
              "      <td>NEUTRAL</td>\n",
              "      <td>4.5</td>\n",
              "      <td>A_neutral_B</td>\n",
              "      <td>B_neutral_A</td>\n",
              "      <td>A group of children playing in a yard, a man i...</td>\n",
              "      <td>A group of children playing in a yard, a man i...</td>\n",
              "      <td>FLICKR</td>\n",
              "      <td>FLICKR</td>\n",
              "      <td>TRAIN</td>\n",
              "    </tr>\n",
              "    <tr>\n",
              "      <th>1</th>\n",
              "      <td>2</td>\n",
              "      <td>A group of children is playing in the house an...</td>\n",
              "      <td>A group of kids is playing in a yard and an ol...</td>\n",
              "      <td>NEUTRAL</td>\n",
              "      <td>3.2</td>\n",
              "      <td>A_contradicts_B</td>\n",
              "      <td>B_neutral_A</td>\n",
              "      <td>A group of children playing in a yard, a man i...</td>\n",
              "      <td>A group of children playing in a yard, a man i...</td>\n",
              "      <td>FLICKR</td>\n",
              "      <td>FLICKR</td>\n",
              "      <td>TRAIN</td>\n",
              "    </tr>\n",
              "    <tr>\n",
              "      <th>2</th>\n",
              "      <td>3</td>\n",
              "      <td>The young boys are playing outdoors and the ma...</td>\n",
              "      <td>The kids are playing outdoors near a man with ...</td>\n",
              "      <td>ENTAILMENT</td>\n",
              "      <td>4.7</td>\n",
              "      <td>A_entails_B</td>\n",
              "      <td>B_entails_A</td>\n",
              "      <td>The children are playing outdoors, while a man...</td>\n",
              "      <td>The children are playing outdoors, while a man...</td>\n",
              "      <td>FLICKR</td>\n",
              "      <td>FLICKR</td>\n",
              "      <td>TRAIN</td>\n",
              "    </tr>\n",
              "    <tr>\n",
              "      <th>3</th>\n",
              "      <td>4</td>\n",
              "      <td>The young boys are playing outdoors and the ma...</td>\n",
              "      <td>There is no boy playing outdoors and there is ...</td>\n",
              "      <td>CONTRADICTION</td>\n",
              "      <td>3.6</td>\n",
              "      <td>A_contradicts_B</td>\n",
              "      <td>B_contradicts_A</td>\n",
              "      <td>The children are playing outdoors, while a man...</td>\n",
              "      <td>The children are playing outdoors, while a man...</td>\n",
              "      <td>FLICKR</td>\n",
              "      <td>FLICKR</td>\n",
              "      <td>TRIAL</td>\n",
              "    </tr>\n",
              "    <tr>\n",
              "      <th>4</th>\n",
              "      <td>5</td>\n",
              "      <td>The kids are playing outdoors near a man with ...</td>\n",
              "      <td>A group of kids is playing in a yard and an ol...</td>\n",
              "      <td>NEUTRAL</td>\n",
              "      <td>3.4</td>\n",
              "      <td>A_neutral_B</td>\n",
              "      <td>B_neutral_A</td>\n",
              "      <td>A group of children playing in a yard, a man i...</td>\n",
              "      <td>The children are playing outdoors, while a man...</td>\n",
              "      <td>FLICKR</td>\n",
              "      <td>FLICKR</td>\n",
              "      <td>TRAIN</td>\n",
              "    </tr>\n",
              "  </tbody>\n",
              "</table>\n",
              "</div>"
            ],
            "text/plain": [
              "   pair_ID  ... SemEval_set\n",
              "0        1  ...       TRAIN\n",
              "1        2  ...       TRAIN\n",
              "2        3  ...       TRAIN\n",
              "3        4  ...       TRIAL\n",
              "4        5  ...       TRAIN\n",
              "\n",
              "[5 rows x 12 columns]"
            ]
          },
          "metadata": {
            "tags": []
          },
          "execution_count": 11
        }
      ]
    },
    {
      "cell_type": "code",
      "metadata": {
        "id": "ZVsIJox2lYZO",
        "colab_type": "code",
        "colab": {}
      },
      "source": [
        "# 2.Tokenize\n",
        "main_train, hypo_train, main_val, hypo_val, main_test, hypo_test=[], [], [], [], [], []\n",
        "\n",
        "for entry in x_train_raw['sentence_A']:\n",
        "  main_train.append(entry)\n",
        "for entry in x_train_raw['sentence_B']:\n",
        "  hypo_train.append(entry)\n",
        "for entry in x_val_raw['sentence_A']:\n",
        "  main_val.append(entry)\n",
        "for entry in x_val_raw['sentence_B']:\n",
        "  hypo_val.append(entry)\n",
        "for entry in x_test_raw['sentence_A']:\n",
        "  main_test.append(entry)\n",
        "for entry in x_test_raw['sentence_B']:\n",
        "  hypo_test.append(entry)"
      ],
      "execution_count": 0,
      "outputs": []
    },
    {
      "cell_type": "code",
      "metadata": {
        "id": "Au3AE6OOmMCJ",
        "colab_type": "code",
        "colab": {}
      },
      "source": [
        "# 4.Convert text to sequence\n",
        "main_sequences = tokenizer.texts_to_sequences(main_train)\n",
        "hypo_sequences = tokenizer.texts_to_sequences(hypo_train)\n",
        "main_sequences_val = tokenizer.texts_to_sequences(main_val)\n",
        "hypo_sequences_val = tokenizer.texts_to_sequences(hypo_val)\n",
        "main_sequences_test = tokenizer.texts_to_sequences(main_test)\n",
        "hypo_sequences_test = tokenizer.texts_to_sequences(hypo_test)\n",
        "# 5.Zero pad sequences\n",
        "main_seq_padded = pad_sequences(main_sequences, maxlen=82)\n",
        "hypo_seq_padded = pad_sequences(hypo_sequences, maxlen=82)\n",
        "main_seq_padded_val = pad_sequences(main_sequences_val, maxlen=82)\n",
        "hypo_seq_padded_val = pad_sequences(hypo_sequences_val, maxlen=82)\n",
        "main_seq_padded_test = pad_sequences(main_sequences_test, maxlen=82)\n",
        "hypo_seq_padded_test = pad_sequences(hypo_sequences_test, maxlen=82)"
      ],
      "execution_count": 0,
      "outputs": []
    },
    {
      "cell_type": "code",
      "metadata": {
        "id": "7vcbVda_mRX3",
        "colab_type": "code",
        "colab": {
          "base_uri": "https://localhost:8080/",
          "height": 35
        },
        "outputId": "ffc7ec72-371d-4e43-82a3-a8956b136726"
      },
      "source": [
        "EMBEDDING_DIM=300\n",
        "word_index = tokenizer.word_index\n",
        "print('Found %s unique tokens.' % len(word_index))\n",
        "\n",
        "# reserve zero for padding\n",
        "num_words = len(word_index) + 1\n",
        "embedding_matrix = np.zeros((num_words, EMBEDDING_DIM))\n",
        "\n",
        "for word, i in word_index.items():\n",
        "    embedding_vector = embeddings_index.get(word)\n",
        "    if embedding_vector is not None :\n",
        "        # words not found in embedding index will be all-zeros.\n",
        "        embedding_matrix[i] = embedding_vector"
      ],
      "execution_count": 49,
      "outputs": [
        {
          "output_type": "stream",
          "text": [
            "Found 34606 unique tokens.\n"
          ],
          "name": "stdout"
        }
      ]
    },
    {
      "cell_type": "code",
      "metadata": {
        "id": "t-YQ56Ajmvxs",
        "colab_type": "code",
        "colab": {}
      },
      "source": [
        "def build_sick_clf():\n",
        "  model = build_esim()\n",
        "  model.load_weights('/content/gdrive/My Drive/NLP/bilstm-max-ESIM-04-0.8724.hdf5')\n",
        "  # Freeze the layers except the last 2 layers\n",
        "  for layer in model.layers[:-2]:\n",
        "      layer.trainable = False\n",
        "  # Check the trainable status of the individual layers\n",
        "  for layer in model.layers:\n",
        "      print(layer, layer.trainable)\n",
        "\n",
        "  #model = Model(inputs, output)\n",
        "  model.compile(loss='categorical_crossentropy', metrics=['acc'], optimizer='adam')\n",
        "  return model\n",
        "\n",
        "model = build_sick_clf()"
      ],
      "execution_count": 0,
      "outputs": []
    },
    {
      "cell_type": "code",
      "metadata": {
        "id": "BYRtnaUbp0RU",
        "colab_type": "code",
        "colab": {
          "base_uri": "https://localhost:8080/",
          "height": 604
        },
        "outputId": "7cd0a171-6f70-4cf7-cc16-bfec34f8fd73"
      },
      "source": [
        "# train ESIM model with FastText\n",
        "batch_size = 64\n",
        "n_epoch = 8\n",
        "model_name='ESIM_SICK_FT'\n",
        "model_save_path = '/content/gdrive/My Drive/NLP/'+model_name+'-{epoch:02d}-{val_acc:.4f}.hdf5'\n",
        "checkpoint = ModelCheckpoint(model_save_path, monitor='val_acc', verbose=1, save_best_only=True, mode='max')\n",
        "callback_list=[checkpoint]\n",
        "hist = model.fit([main_seq_padded,hypo_seq_padded], y_train_e,\n",
        "          batch_size=batch_size,\n",
        "          epochs=n_epoch,\n",
        "          validation_data=([main_seq_padded_val,hypo_seq_padded_val], y_val_e),\n",
        "          callbacks=callback_list)"
      ],
      "execution_count": 63,
      "outputs": [
        {
          "output_type": "stream",
          "text": [
            "Train on 4439 samples, validate on 495 samples\n",
            "Epoch 1/8\n",
            "4439/4439 [==============================] - 47s 11ms/step - loss: 0.5014 - acc: 0.8117 - val_loss: 0.3453 - val_acc: 0.8566\n",
            "\n",
            "Epoch 00001: val_acc improved from -inf to 0.85657, saving model to /content/gdrive/My Drive/NLP/ESIM_SICK_FT-01-0.8566.hdf5\n",
            "Epoch 2/8\n",
            "4439/4439 [==============================] - 41s 9ms/step - loss: 0.3206 - acc: 0.8777 - val_loss: 0.3299 - val_acc: 0.8606\n",
            "\n",
            "Epoch 00002: val_acc improved from 0.85657 to 0.86061, saving model to /content/gdrive/My Drive/NLP/ESIM_SICK_FT-02-0.8606.hdf5\n",
            "Epoch 3/8\n",
            "4439/4439 [==============================] - 41s 9ms/step - loss: 0.2938 - acc: 0.8883 - val_loss: 0.3282 - val_acc: 0.8545\n",
            "\n",
            "Epoch 00003: val_acc did not improve from 0.86061\n",
            "Epoch 4/8\n",
            "4439/4439 [==============================] - 40s 9ms/step - loss: 0.2733 - acc: 0.8970 - val_loss: 0.3145 - val_acc: 0.8566\n",
            "\n",
            "Epoch 00004: val_acc did not improve from 0.86061\n",
            "Epoch 5/8\n",
            "4439/4439 [==============================] - 40s 9ms/step - loss: 0.2520 - acc: 0.9016 - val_loss: 0.3180 - val_acc: 0.8586\n",
            "\n",
            "Epoch 00005: val_acc did not improve from 0.86061\n",
            "Epoch 6/8\n",
            "4439/4439 [==============================] - 41s 9ms/step - loss: 0.2355 - acc: 0.9103 - val_loss: 0.3164 - val_acc: 0.8646\n",
            "\n",
            "Epoch 00006: val_acc improved from 0.86061 to 0.86465, saving model to /content/gdrive/My Drive/NLP/ESIM_SICK_FT-06-0.8646.hdf5\n",
            "Epoch 7/8\n",
            "4439/4439 [==============================] - 41s 9ms/step - loss: 0.2198 - acc: 0.9160 - val_loss: 0.3264 - val_acc: 0.8626\n",
            "\n",
            "Epoch 00007: val_acc did not improve from 0.86465\n",
            "Epoch 8/8\n",
            "4439/4439 [==============================] - 40s 9ms/step - loss: 0.2049 - acc: 0.9189 - val_loss: 0.3317 - val_acc: 0.8687\n",
            "\n",
            "Epoch 00008: val_acc improved from 0.86465 to 0.86869, saving model to /content/gdrive/My Drive/NLP/ESIM_SICK_FT-08-0.8687.hdf5\n"
          ],
          "name": "stdout"
        }
      ]
    },
    {
      "cell_type": "code",
      "metadata": {
        "id": "gKdVqSAfys5E",
        "colab_type": "code",
        "colab": {
          "base_uri": "https://localhost:8080/",
          "height": 70
        },
        "outputId": "061dc842-fb5d-4f7b-a3ea-346a1264e77d"
      },
      "source": [
        "metrics = model.evaluate([main_seq_padded_test,hypo_seq_padded_test],y_test_e,batch_size=64)\n",
        "print(\"ESIM-FastText Accuracy on SICK test-set : \"+str(round(metrics[1]*100,2))+\" %\")\n",
        "print()"
      ],
      "execution_count": 64,
      "outputs": [
        {
          "output_type": "stream",
          "text": [
            "4906/4906 [==============================] - 40s 8ms/step\n",
            "ESIM-FastText Accuracy on SICK test-set : 88.73 %\n",
            "\n"
          ],
          "name": "stdout"
        }
      ]
    },
    {
      "cell_type": "markdown",
      "metadata": {
        "id": "swWa48dnJlWq",
        "colab_type": "text"
      },
      "source": [
        "# ||===|| Test Sentence Encoder ||===||"
      ]
    },
    {
      "cell_type": "code",
      "metadata": {
        "id": "nJn2RdExJvqX",
        "colab_type": "code",
        "colab": {}
      },
      "source": [
        "def build_encoder():\n",
        "  model = build_esim()\n",
        "  model.load_weights('/content/gdrive/My Drive/NLP/bilstm-max-ESIM-04-0.8724.hdf5')\n",
        "  # Check the trainable status of the individual layers\n",
        "  model.layers.pop()\n",
        "  model.layers.pop()\n",
        "\n",
        "  model.trainable = False\n",
        "  return model\n",
        "\n",
        "model = build_encoder()"
      ],
      "execution_count": 0,
      "outputs": []
    },
    {
      "cell_type": "markdown",
      "metadata": {
        "id": "AARiJe2zbNed",
        "colab_type": "text"
      },
      "source": [
        "* **Generate Embedding for a given Sentence**"
      ]
    },
    {
      "cell_type": "code",
      "metadata": {
        "id": "OpmuPQI5KEYZ",
        "colab_type": "code",
        "colab": {
          "base_uri": "https://localhost:8080/",
          "height": 52
        },
        "outputId": "27b89478-1215-42ba-a2b8-2df815225907"
      },
      "source": [
        "main_sent = tokenizer.texts_to_sequences(['The kids are playing outdoors near a man'])\n",
        "hypo_sent = tokenizer.texts_to_sequences(['The kids are playing outdoors near a man'])\n",
        "\n",
        "main_sent_pad = pad_sequences(main_sent, maxlen=82)\n",
        "hypo_sent_pad = pad_sequences(hypo_sent, maxlen=82)\n",
        "\n",
        "layer_name = 'concatenate_18'\n",
        "intermediate_layer_model = Model(inputs=model.input,\n",
        "                                 outputs=model.get_layer(layer_name).output)\n",
        "intermediate_output = intermediate_layer_model.predict([main_sent_pad,hypo_sent_pad])\n",
        "# embedding for main sentence --------------------------\n",
        "intermediate_output[:1024]"
      ],
      "execution_count": 137,
      "outputs": [
        {
          "output_type": "execute_result",
          "data": {
            "text/plain": [
              "array([[-0.00986849, -0.00082916,  0.00212319, ...,  0.00308811,\n",
              "         0.07802185,  0.02487027]], dtype=float32)"
            ]
          },
          "metadata": {
            "tags": []
          },
          "execution_count": 137
        }
      ]
    }
  ]
}